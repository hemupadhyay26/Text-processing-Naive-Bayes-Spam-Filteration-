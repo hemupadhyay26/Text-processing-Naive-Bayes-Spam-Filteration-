{
 "cells": [
  {
   "cell_type": "code",
   "execution_count": 2,
   "id": "c20a6322-e135-42f0-b5c0-3f7b526c51a4",
   "metadata": {},
   "outputs": [],
   "source": [
    "import nltk"
   ]
  },
  {
   "cell_type": "code",
   "execution_count": 4,
   "id": "ab55b1cb-9739-477b-b2b6-e4a0dadf92e4",
   "metadata": {},
   "outputs": [],
   "source": [
    "from nltk.corpus import brown"
   ]
  },
  {
   "cell_type": "code",
   "execution_count": 5,
   "id": "d74cc3e0-4147-46df-87c1-613bda1c4f36",
   "metadata": {},
   "outputs": [
    {
     "data": {
      "text/plain": [
       "['adventure',\n",
       " 'belles_lettres',\n",
       " 'editorial',\n",
       " 'fiction',\n",
       " 'government',\n",
       " 'hobbies',\n",
       " 'humor',\n",
       " 'learned',\n",
       " 'lore',\n",
       " 'mystery',\n",
       " 'news',\n",
       " 'religion',\n",
       " 'reviews',\n",
       " 'romance',\n",
       " 'science_fiction']"
      ]
     },
     "execution_count": 5,
     "metadata": {},
     "output_type": "execute_result"
    }
   ],
   "source": [
    "brown.categories()"
   ]
  },
  {
   "cell_type": "code",
   "execution_count": 8,
   "id": "300497c5-b176-44ba-a166-9dc93a25db34",
   "metadata": {},
   "outputs": [
    {
     "name": "stdout",
     "output_type": "stream",
     "text": [
      "Requirement already satisfied: nltk in c:\\users\\user\\anaconda3\\lib\\site-packages (3.7)\n",
      "Requirement already satisfied: click in c:\\users\\user\\anaconda3\\lib\\site-packages (from nltk) (8.0.4)\n",
      "Requirement already satisfied: regex>=2021.8.3 in c:\\users\\user\\anaconda3\\lib\\site-packages (from nltk) (2022.3.15)\n",
      "Requirement already satisfied: tqdm in c:\\users\\user\\anaconda3\\lib\\site-packages (from nltk) (4.64.0)\n",
      "Requirement already satisfied: joblib in c:\\users\\user\\anaconda3\\lib\\site-packages (from nltk) (1.1.0)\n",
      "Requirement already satisfied: colorama in c:\\users\\user\\anaconda3\\lib\\site-packages (from click->nltk) (0.4.4)\n"
     ]
    }
   ],
   "source": [
    "! pip install nltk"
   ]
  },
  {
   "cell_type": "code",
   "execution_count": 27,
   "id": "ae658a6a-42f1-4403-806a-af2574614ee7",
   "metadata": {},
   "outputs": [
    {
     "name": "stdout",
     "output_type": "stream",
     "text": [
      "showing info https://raw.githubusercontent.com/nltk/nltk_data/gh-pages/index.xml\n"
     ]
    },
    {
     "data": {
      "text/plain": [
       "True"
      ]
     },
     "execution_count": 27,
     "metadata": {},
     "output_type": "execute_result"
    }
   ],
   "source": [
    "nltk.download()"
   ]
  },
  {
   "cell_type": "code",
   "execution_count": 6,
   "id": "00645cbf-676a-4b91-bd3f-dd1e5c551f01",
   "metadata": {},
   "outputs": [
    {
     "data": {
      "text/plain": [
       "['The', 'Fulton', 'County', 'Grand', 'Jury', 'said', ...]"
      ]
     },
     "execution_count": 6,
     "metadata": {},
     "output_type": "execute_result"
    }
   ],
   "source": [
    "brown.words()"
   ]
  },
  {
   "cell_type": "code",
   "execution_count": 7,
   "id": "cc51272f-c81b-46d5-9068-4b104f009769",
   "metadata": {},
   "outputs": [],
   "source": [
    "data = brown.sents(categories = [\"adventure\"])"
   ]
  },
  {
   "cell_type": "code",
   "execution_count": 58,
   "id": "eb4689f2-6e15-442e-b4e0-0aeffbac3821",
   "metadata": {},
   "outputs": [
    {
     "data": {
      "text/plain": [
       "'No girl would go this far to fool a man so she could kill him .'"
      ]
     },
     "execution_count": 58,
     "metadata": {},
     "output_type": "execute_result"
    }
   ],
   "source": [
    "\" \".join(data[50])"
   ]
  },
  {
   "cell_type": "markdown",
   "id": "e11f9a45-51da-476a-84d3-a25e23ada3d3",
   "metadata": {},
   "source": [
    "# Tokenization"
   ]
  },
  {
   "cell_type": "code",
   "execution_count": 15,
   "id": "769bbe64-229a-485b-84ec-4760b90a25cf",
   "metadata": {},
   "outputs": [],
   "source": [
    "from nltk.tokenize import sent_tokenize, word_tokenize"
   ]
  },
  {
   "cell_type": "code",
   "execution_count": 20,
   "id": "b8094b87-1b99-4d43-8bee-c5ca9931e2cf",
   "metadata": {},
   "outputs": [],
   "source": [
    "document = \"\"\" It was a very good movie. The cast was amazing and I liked the story.\n",
    "I went to the moive hall to see it.\n",
    "\"\"\"\n",
    "\n",
    "sentence = \" Hem code always OP xys@gmail.com\""
   ]
  },
  {
   "cell_type": "code",
   "execution_count": 21,
   "id": "ad3e4400-dc3e-4110-a76b-8e87a806d2a1",
   "metadata": {},
   "outputs": [
    {
     "name": "stdout",
     "output_type": "stream",
     "text": [
      "[' It was a very good movie.', 'The cast was amazing and I liked the story.', 'I went to the moive hall to see it.']\n"
     ]
    }
   ],
   "source": [
    "sents = sent_tokenize(document);\n",
    "print(sents)"
   ]
  },
  {
   "cell_type": "code",
   "execution_count": 23,
   "id": "d8eed901-df81-420b-91fd-da2d61242119",
   "metadata": {},
   "outputs": [
    {
     "name": "stdout",
     "output_type": "stream",
     "text": [
      "['Hem', 'code', 'always', 'OP', 'xys', '@', 'gmail.com']\n"
     ]
    }
   ],
   "source": [
    "words = word_tokenize(sentence); # also break special character differently\n",
    "print(words);"
   ]
  },
  {
   "cell_type": "markdown",
   "id": "b9d12a5a-04af-44f9-9902-a48edc1d5012",
   "metadata": {},
   "source": [
    "# stopword Removal"
   ]
  },
  {
   "cell_type": "code",
   "execution_count": 24,
   "id": "cfe9c950-5065-42d3-b5b5-efb052dc9383",
   "metadata": {},
   "outputs": [],
   "source": [
    "from nltk.corpus import stopwords"
   ]
  },
  {
   "cell_type": "code",
   "execution_count": 29,
   "id": "d34c4218-b9d3-4ec6-9c0b-b22a700fc985",
   "metadata": {},
   "outputs": [],
   "source": [
    "sw = set(stopwords.words('english'))"
   ]
  },
  {
   "cell_type": "code",
   "execution_count": 32,
   "id": "4b26c286-c71e-4d2e-8cda-bdf3b7dacbb7",
   "metadata": {},
   "outputs": [],
   "source": [
    "text = \"\"\" It was a very good movie. The cast was amazing and I liked the story.\n",
    "I went to the moive hall to see it.\n",
    "\"\"\".split()"
   ]
  },
  {
   "cell_type": "code",
   "execution_count": 33,
   "id": "0a2e0486-41be-4c94-a7b4-190da9a61411",
   "metadata": {},
   "outputs": [
    {
     "name": "stdout",
     "output_type": "stream",
     "text": [
      "['It', 'was', 'a', 'very', 'good', 'movie.', 'The', 'cast', 'was', 'amazing', 'and', 'I', 'liked', 'the', 'story.', 'I', 'went', 'to', 'the', 'moive', 'hall', 'to', 'see', 'it.']\n"
     ]
    }
   ],
   "source": [
    "print(text)"
   ]
  },
  {
   "cell_type": "code",
   "execution_count": 34,
   "id": "c9cc3ead-c980-4938-b99c-093e691d1461",
   "metadata": {},
   "outputs": [],
   "source": [
    "def remove_stopwords(text,stopwords):\n",
    "    useful= [w for w in text if w not in stopwords]\n",
    "    return useful"
   ]
  },
  {
   "cell_type": "markdown",
   "id": "6739dddc-53f9-4dac-83d4-763459cba10e",
   "metadata": {},
   "source": [
    "useful_words = remove_stopwords(text,sw)"
   ]
  },
  {
   "cell_type": "code",
   "execution_count": 36,
   "id": "48d995fb-387b-4cb6-aeac-2b757f6f7963",
   "metadata": {},
   "outputs": [
    {
     "data": {
      "text/plain": [
       "['It',\n",
       " 'good',\n",
       " 'movie.',\n",
       " 'The',\n",
       " 'cast',\n",
       " 'amazing',\n",
       " 'I',\n",
       " 'liked',\n",
       " 'story.',\n",
       " 'I',\n",
       " 'went',\n",
       " 'moive',\n",
       " 'hall',\n",
       " 'see',\n",
       " 'it.']"
      ]
     },
     "execution_count": 36,
     "metadata": {},
     "output_type": "execute_result"
    }
   ],
   "source": [
    "useful_words"
   ]
  },
  {
   "cell_type": "markdown",
   "id": "0fcf7020-4da8-41a3-9efd-3e93d258f9b6",
   "metadata": {
    "tags": []
   },
   "source": [
    "# tokenization using regex"
   ]
  },
  {
   "cell_type": "code",
   "execution_count": 43,
   "id": "33066e07-0df6-4e0e-8dd0-01cf8278c0e5",
   "metadata": {},
   "outputs": [],
   "source": [
    "sentence = \" Hem code always OP xys@gmail.com email is here\""
   ]
  },
  {
   "cell_type": "code",
   "execution_count": 44,
   "id": "cfafec78-85ed-4e71-8de5-ad443b9bd8cd",
   "metadata": {},
   "outputs": [],
   "source": [
    "from nltk.tokenize import RegexpTokenizer"
   ]
  },
  {
   "cell_type": "code",
   "execution_count": 45,
   "id": "1f89e78b-0a8c-4fe5-9cbf-4227babc5778",
   "metadata": {},
   "outputs": [
    {
     "name": "stdout",
     "output_type": "stream",
     "text": [
      "['Hem', 'code', 'always', 'OP', 'xys@gmail.com', 'email', 'is', 'here']\n"
     ]
    }
   ],
   "source": [
    "tokenizer = RegexpTokenizer('[a-zA-z@.]+')\n",
    "useful = tokenizer.tokenize(sentence)\n",
    "print(useful)"
   ]
  },
  {
   "cell_type": "markdown",
   "id": "779c1fd6-c4cb-4b2b-aa78-79bb4fdbe2ba",
   "metadata": {},
   "source": [
    "# stamming"
   ]
  },
  {
   "cell_type": "code",
   "execution_count": 46,
   "id": "49f3aa39-a369-4cf8-ba8b-a8f2eae023ad",
   "metadata": {},
   "outputs": [],
   "source": [
    "# porte,snowball,lancaster stemmers"
   ]
  },
  {
   "cell_type": "code",
   "execution_count": 47,
   "id": "373252a3-2741-4bf5-9314-a9f04b155d68",
   "metadata": {},
   "outputs": [],
   "source": [
    "from nltk.stem import SnowballStemmer,PorterStemmer, LancasterStemmer"
   ]
  },
  {
   "cell_type": "code",
   "execution_count": 48,
   "id": "0b6dbffe-306b-4849-ae91-a5f9a4d5b89d",
   "metadata": {},
   "outputs": [],
   "source": [
    "ps = PorterStemmer()"
   ]
  },
  {
   "cell_type": "code",
   "execution_count": 55,
   "id": "0d4da80d-931d-4f21-8289-661cbf18c55d",
   "metadata": {},
   "outputs": [
    {
     "data": {
      "text/plain": [
       "'train'"
      ]
     },
     "execution_count": 55,
     "metadata": {},
     "output_type": "execute_result"
    }
   ],
   "source": [
    "ps.stem('training') # it used to remove the simliar words"
   ]
  },
  {
   "cell_type": "markdown",
   "id": "4d8fc307-307b-48e1-80b4-0344dc9f6706",
   "metadata": {},
   "source": [
    "# Build the Vocab"
   ]
  },
  {
   "cell_type": "code",
   "execution_count": 89,
   "id": "15b18ace-49b1-4a4d-a155-cfdf2c0793d5",
   "metadata": {},
   "outputs": [],
   "source": [
    "corpus = [\n",
    "    'Sometimes he woke up in the middle of the night thinking of Ann , and then could not get back to sleep .',\n",
    "    'The grass in the meadows came fast , now that the warm weather was here .',\n",
    "    'The boy licked his dry lips .',\n",
    "    'No girl would go this far to fool a man so she could kill him .'\n",
    "]"
   ]
  },
  {
   "cell_type": "code",
   "execution_count": 90,
   "id": "73db202d-825a-43f1-89d5-1237e06042ab",
   "metadata": {},
   "outputs": [],
   "source": [
    "from sklearn.feature_extraction.text import CountVectorizer"
   ]
  },
  {
   "cell_type": "code",
   "execution_count": 91,
   "id": "70f89067-3874-41c2-81e5-27359171fd52",
   "metadata": {},
   "outputs": [],
   "source": [
    "cv = CountVectorizer()"
   ]
  },
  {
   "cell_type": "code",
   "execution_count": 92,
   "id": "2d66d4c4-09bf-40a2-bf01-ad3741c96fbc",
   "metadata": {},
   "outputs": [],
   "source": [
    "vc = cv.fit_transform(corpus)"
   ]
  },
  {
   "cell_type": "code",
   "execution_count": 93,
   "id": "36e412e8-e62d-4acc-9b5e-02aaa66c041f",
   "metadata": {},
   "outputs": [],
   "source": [
    "vc = vc.toarray()\n"
   ]
  },
  {
   "cell_type": "code",
   "execution_count": 101,
   "id": "006191e7-09a6-48e8-8676-1a4e0e6f683a",
   "metadata": {},
   "outputs": [
    {
     "name": "stdout",
     "output_type": "stream",
     "text": [
      "[0 0 0 1 0 0 1 0 0 0 0 0 0 0 0 0 0 1 0 0 1 1 0 0 0 0 0 0 0 0 0 0 0 0 0 1 0\n",
      " 0 0 0 0 0 0 0 0 0]\n"
     ]
    }
   ],
   "source": [
    "print(vc[2])"
   ]
  },
  {
   "cell_type": "code",
   "execution_count": 95,
   "id": "13912fd1-1e53-4e21-8ae7-40794bb70877",
   "metadata": {},
   "outputs": [
    {
     "name": "stdout",
     "output_type": "stream",
     "text": [
      "{'sometimes': 33, 'he': 14, 'woke': 44, 'up': 40, 'in': 18, 'the': 35, 'middle': 24, 'of': 29, 'night': 25, 'thinking': 37, 'ann': 1, 'and': 0, 'then': 36, 'could': 5, 'not': 27, 'get': 10, 'back': 2, 'to': 39, 'sleep': 31, 'grass': 13, 'meadows': 23, 'came': 4, 'fast': 8, 'now': 28, 'that': 34, 'warm': 41, 'weather': 43, 'was': 42, 'here': 15, 'boy': 3, 'licked': 20, 'his': 17, 'dry': 6, 'lips': 21, 'no': 26, 'girl': 11, 'would': 45, 'go': 12, 'this': 38, 'far': 7, 'fool': 9, 'man': 22, 'so': 32, 'she': 30, 'kill': 19, 'him': 16}\n"
     ]
    }
   ],
   "source": [
    "print(cv.vocabulary_)"
   ]
  },
  {
   "cell_type": "code",
   "execution_count": 96,
   "id": "387d9e6f-83ac-496f-b792-cf1686fe6009",
   "metadata": {},
   "outputs": [
    {
     "name": "stdout",
     "output_type": "stream",
     "text": [
      "46\n"
     ]
    }
   ],
   "source": [
    "print(len(cv.vocabulary_))"
   ]
  },
  {
   "cell_type": "code",
   "execution_count": 97,
   "id": "2b7e3379-852d-4be5-b4ad-fdd5107a9976",
   "metadata": {},
   "outputs": [],
   "source": [
    "numbers = vc[2]"
   ]
  },
  {
   "cell_type": "code",
   "execution_count": 102,
   "id": "a347be7f-94ff-4309-8eb8-1adaf89e8aff",
   "metadata": {},
   "outputs": [
    {
     "name": "stdout",
     "output_type": "stream",
     "text": [
      "46\n"
     ]
    }
   ],
   "source": [
    "print(len(numbers))"
   ]
  },
  {
   "cell_type": "code",
   "execution_count": 105,
   "id": "068ed6bd-7542-468b-90f4-72dcb8ba01ef",
   "metadata": {},
   "outputs": [],
   "source": [
    "def myTokenizer(document):\n",
    "    words = tokenizer.tokenize(document.lower())\n",
    "    words = remove_stopwords(words , sw)\n",
    "    return words"
   ]
  },
  {
   "cell_type": "code",
   "execution_count": 106,
   "id": "7aabde2b-40aa-4f7e-974a-d54634f8cc81",
   "metadata": {},
   "outputs": [
    {
     "data": {
      "text/plain": [
       "['get', 'removed']"
      ]
     },
     "execution_count": 106,
     "metadata": {},
     "output_type": "execute_result"
    }
   ],
   "source": [
    "myTokenizer('This will get removed')"
   ]
  },
  {
   "cell_type": "code",
   "execution_count": 107,
   "id": "b753a90f-a652-4d49-8ca2-08f874efcded",
   "metadata": {},
   "outputs": [],
   "source": [
    "cv = CountVectorizer(tokenizer=myTokenizer)"
   ]
  },
  {
   "cell_type": "code",
   "execution_count": 108,
   "id": "e0e54d8f-f21d-461c-b0f9-cc316635fe81",
   "metadata": {},
   "outputs": [],
   "source": [
    "vc = cv.fit_transform(corpus).toarray()"
   ]
  },
  {
   "cell_type": "code",
   "execution_count": 110,
   "id": "cd8adc22-a8a1-4016-9942-622d86150cb6",
   "metadata": {},
   "outputs": [
    {
     "name": "stdout",
     "output_type": "stream",
     "text": [
      "[[1 1 1 0 0 1 0 0 0 0 1 0 0 0 0 0 0 0 0 1 1 1 1 1 0 0 1 0]\n",
      " [1 0 0 0 1 0 0 0 1 0 0 0 0 1 0 0 0 0 1 0 0 0 0 0 1 1 0 0]\n",
      " [1 0 0 1 0 0 1 0 0 0 0 0 0 0 0 1 1 0 0 0 0 0 0 0 0 0 0 0]\n",
      " [1 0 0 0 0 1 0 1 0 1 0 1 1 0 1 0 0 1 0 0 0 0 0 0 0 0 0 1]]\n"
     ]
    }
   ],
   "source": [
    "print(vc)"
   ]
  },
  {
   "cell_type": "code",
   "execution_count": 112,
   "id": "10099d77-3677-47ba-8bd9-d0e0ee6b319d",
   "metadata": {},
   "outputs": [
    {
     "data": {
      "text/plain": [
       "28"
      ]
     },
     "execution_count": 112,
     "metadata": {},
     "output_type": "execute_result"
    }
   ],
   "source": [
    "len(vc[0])"
   ]
  },
  {
   "cell_type": "code",
   "execution_count": 113,
   "id": "1976ab64-c5a9-428c-bdb8-65da4c2dc3ef",
   "metadata": {},
   "outputs": [
    {
     "data": {
      "text/plain": [
       "{'sometimes': 22,\n",
       " 'woke': 26,\n",
       " 'middle': 19,\n",
       " 'night': 20,\n",
       " 'thinking': 23,\n",
       " 'ann': 1,\n",
       " 'could': 5,\n",
       " 'get': 10,\n",
       " 'back': 2,\n",
       " 'sleep': 21,\n",
       " '.': 0,\n",
       " 'grass': 13,\n",
       " 'meadows': 18,\n",
       " 'came': 4,\n",
       " 'fast': 8,\n",
       " 'warm': 24,\n",
       " 'weather': 25,\n",
       " 'boy': 3,\n",
       " 'licked': 15,\n",
       " 'dry': 6,\n",
       " 'lips': 16,\n",
       " 'girl': 11,\n",
       " 'would': 27,\n",
       " 'go': 12,\n",
       " 'far': 7,\n",
       " 'fool': 9,\n",
       " 'man': 17,\n",
       " 'kill': 14}"
      ]
     },
     "execution_count": 113,
     "metadata": {},
     "output_type": "execute_result"
    }
   ],
   "source": [
    "cv.vocabulary_"
   ]
  },
  {
   "cell_type": "code",
   "execution_count": null,
   "id": "c278ed5d-a6b2-47e5-854a-9ba8594d60ba",
   "metadata": {},
   "outputs": [],
   "source": []
  }
 ],
 "metadata": {
  "kernelspec": {
   "display_name": "Python 3 (ipykernel)",
   "language": "python",
   "name": "python3"
  },
  "language_info": {
   "codemirror_mode": {
    "name": "ipython",
    "version": 3
   },
   "file_extension": ".py",
   "mimetype": "text/x-python",
   "name": "python",
   "nbconvert_exporter": "python",
   "pygments_lexer": "ipython3",
   "version": "3.9.12"
  }
 },
 "nbformat": 4,
 "nbformat_minor": 5
}
